{
 "cells": [
  {
   "cell_type": "code",
   "execution_count": 1,
   "id": "2416a184-bd1c-4b82-a63d-bb171e4f8d9b",
   "metadata": {},
   "outputs": [],
   "source": [
    "ace='330 West 41st Street, Sioux Falls, South Dakota, 57105'"
   ]
  },
  {
   "cell_type": "code",
   "execution_count": 2,
   "id": "7ec53371-a8b0-49e6-9a08-0e845b319966",
   "metadata": {},
   "outputs": [],
   "source": [
    "ace2='330 West 41st Street,Sioux Falls,South Dakota,57105'"
   ]
  },
  {
   "cell_type": "code",
   "execution_count": 3,
   "id": "a64bcfe6-f165-43d8-aabc-4e3c140358af",
   "metadata": {},
   "outputs": [
    {
     "name": "stdout",
     "output_type": "stream",
     "text": [
      "{'country_code': 'US', 'country_area': 'CA', 'city': 'MOUNTAIN VIEW', 'postal_code': '94043', 'street_address': '1600 Amphitheatre Pkwy', 'city_area': '', 'sorting_code': ''}\n"
     ]
    }
   ],
   "source": [
    "from i18naddress import normalize_address\n",
    "address = normalize_address({\n",
    "    'country_code': 'US',\n",
    "    'country_area': 'California',\n",
    "    'city': 'Mountain View',\n",
    "    'postal_code': '94043',\n",
    "    'street_address': '1600 Amphitheatre Pkwy'})\n",
    "print(address)"
   ]
  },
  {
   "cell_type": "code",
   "execution_count": 4,
   "id": "83b6fcf6-1e8b-4054-9b12-1494ec2e646a",
   "metadata": {},
   "outputs": [],
   "source": [
    "(street_address, city, state, postal_code) = ace2.split(',')"
   ]
  },
  {
   "cell_type": "code",
   "execution_count": 5,
   "id": "298ecde9-f73f-4e6f-bbb4-8a1717149b1a",
   "metadata": {},
   "outputs": [
    {
     "data": {
      "text/plain": [
       "('330 West 41st Street', 'Sioux Falls', 'South Dakota', '57105')"
      ]
     },
     "execution_count": 5,
     "metadata": {},
     "output_type": "execute_result"
    }
   ],
   "source": [
    "(street_address, city, state, postal_code)"
   ]
  },
  {
   "cell_type": "code",
   "execution_count": 6,
   "id": "9bf36d93-7e6e-4416-99ec-bb9a82a7e1d1",
   "metadata": {},
   "outputs": [
    {
     "name": "stdout",
     "output_type": "stream",
     "text": [
      "{'country_code': 'US', 'country_area': 'SD', 'city': 'SIOUX FALLS', 'postal_code': '57105', 'street_address': '330 West 41st Street', 'city_area': '', 'sorting_code': ''}\n"
     ]
    }
   ],
   "source": [
    "address = normalize_address({\n",
    "    'country_code': 'US',\n",
    "    'country_area': state,\n",
    "    'city': city,\n",
    "    'postal_code': postal_code,\n",
    "    'street_address': street_address})\n",
    "print(address)"
   ]
  },
  {
   "cell_type": "code",
   "execution_count": 11,
   "id": "5d2edac7-dad9-41df-93ec-df9258d42d78",
   "metadata": {},
   "outputs": [],
   "source": [
    "happy='2803 philips,soux falls,sd,97105'\n"
   ]
  },
  {
   "cell_type": "code",
   "execution_count": 12,
   "id": "3df28e06-997d-4175-a271-b9c86a13e7d5",
   "metadata": {},
   "outputs": [],
   "source": [
    "(street_address, city, state, postal_code) = happy.split(',')"
   ]
  },
  {
   "cell_type": "code",
   "execution_count": 13,
   "id": "17af299d-d138-4565-a33c-47294719d25d",
   "metadata": {},
   "outputs": [
    {
     "ename": "InvalidAddressError",
     "evalue": "Invalid address",
     "output_type": "error",
     "traceback": [
      "\u001b[0;31m---------------------------------------------------------------------------\u001b[0m",
      "\u001b[0;31mInvalidAddressError\u001b[0m                       Traceback (most recent call last)",
      "Cell \u001b[0;32mIn[13], line 1\u001b[0m\n\u001b[0;32m----> 1\u001b[0m address \u001b[38;5;241m=\u001b[39m \u001b[43mnormalize_address\u001b[49m\u001b[43m(\u001b[49m\u001b[43m{\u001b[49m\n\u001b[1;32m      2\u001b[0m \u001b[43m    \u001b[49m\u001b[38;5;124;43m'\u001b[39;49m\u001b[38;5;124;43mcountry_code\u001b[39;49m\u001b[38;5;124;43m'\u001b[39;49m\u001b[43m:\u001b[49m\u001b[43m \u001b[49m\u001b[38;5;124;43m'\u001b[39;49m\u001b[38;5;124;43mUS\u001b[39;49m\u001b[38;5;124;43m'\u001b[39;49m\u001b[43m,\u001b[49m\n\u001b[1;32m      3\u001b[0m \u001b[43m    \u001b[49m\u001b[38;5;124;43m'\u001b[39;49m\u001b[38;5;124;43mcountry_area\u001b[39;49m\u001b[38;5;124;43m'\u001b[39;49m\u001b[43m:\u001b[49m\u001b[43m \u001b[49m\u001b[43mstate\u001b[49m\u001b[43m,\u001b[49m\n\u001b[1;32m      4\u001b[0m \u001b[43m    \u001b[49m\u001b[38;5;124;43m'\u001b[39;49m\u001b[38;5;124;43mcity\u001b[39;49m\u001b[38;5;124;43m'\u001b[39;49m\u001b[43m:\u001b[49m\u001b[43m \u001b[49m\u001b[43mcity\u001b[49m\u001b[43m,\u001b[49m\n\u001b[1;32m      5\u001b[0m \u001b[43m    \u001b[49m\u001b[38;5;124;43m'\u001b[39;49m\u001b[38;5;124;43mpostal_code\u001b[39;49m\u001b[38;5;124;43m'\u001b[39;49m\u001b[43m:\u001b[49m\u001b[43m \u001b[49m\u001b[43mpostal_code\u001b[49m\u001b[43m,\u001b[49m\n\u001b[1;32m      6\u001b[0m \u001b[43m    \u001b[49m\u001b[38;5;124;43m'\u001b[39;49m\u001b[38;5;124;43mstreet_address\u001b[39;49m\u001b[38;5;124;43m'\u001b[39;49m\u001b[43m:\u001b[49m\u001b[43m \u001b[49m\u001b[43mstreet_address\u001b[49m\u001b[43m}\u001b[49m\u001b[43m)\u001b[49m\n\u001b[1;32m      7\u001b[0m \u001b[38;5;28mprint\u001b[39m(address)\n",
      "File \u001b[0;32m/efs/mambaforge/envs/water/lib/python3.11/site-packages/i18naddress/__init__.py:410\u001b[0m, in \u001b[0;36mnormalize_address\u001b[0;34m(address)\u001b[0m\n\u001b[1;32m    408\u001b[0m     _normalize_field(\u001b[38;5;124m\"\u001b[39m\u001b[38;5;124msorting_code\u001b[39m\u001b[38;5;124m\"\u001b[39m, rules, cleaned_data, [], errors)\n\u001b[1;32m    409\u001b[0m \u001b[38;5;28;01mif\u001b[39;00m errors:\n\u001b[0;32m--> 410\u001b[0m     \u001b[38;5;28;01mraise\u001b[39;00m InvalidAddressError(\u001b[38;5;124m\"\u001b[39m\u001b[38;5;124mInvalid address\u001b[39m\u001b[38;5;124m\"\u001b[39m, errors)\n\u001b[1;32m    411\u001b[0m \u001b[38;5;28;01mreturn\u001b[39;00m cleaned_data\n",
      "\u001b[0;31mInvalidAddressError\u001b[0m: Invalid address"
     ]
    }
   ],
   "source": [
    "address = normalize_address({\n",
    "    'country_code': 'US',\n",
    "    'country_area': state,\n",
    "    'city': city,\n",
    "    'postal_code': postal_code,\n",
    "    'street_address': street_address})\n",
    "print(address)"
   ]
  },
  {
   "cell_type": "code",
   "execution_count": null,
   "id": "d249baa1-8e9c-451d-9a42-03ddd48311b8",
   "metadata": {},
   "outputs": [],
   "source": []
  }
 ],
 "metadata": {
  "kernelspec": {
   "display_name": "Python 3 (ipykernel)",
   "language": "python",
   "name": "python3"
  },
  "language_info": {
   "codemirror_mode": {
    "name": "ipython",
    "version": 3
   },
   "file_extension": ".py",
   "mimetype": "text/x-python",
   "name": "python",
   "nbconvert_exporter": "python",
   "pygments_lexer": "ipython3",
   "version": "3.11.6"
  }
 },
 "nbformat": 4,
 "nbformat_minor": 5
}
