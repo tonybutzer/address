{
 "cells": [
  {
   "cell_type": "code",
   "execution_count": 1,
   "id": "db89ed7e-fc2f-40ad-8f99-0c9be0c8a0cd",
   "metadata": {},
   "outputs": [
    {
     "name": "stdout",
     "output_type": "stream",
     "text": [
      "\n",
      "Table: albums\n",
      "  AlbumId\n",
      "  Title\n",
      "  ArtistId\n",
      "\n",
      "Table: sqlite_sequence\n",
      "  name\n",
      "  seq\n",
      "\n",
      "Table: artists\n",
      "  ArtistId\n",
      "  Name\n",
      "\n",
      "Table: customers\n",
      "  CustomerId\n",
      "  FirstName\n",
      "  LastName\n",
      "  Company\n",
      "  Address\n",
      "  City\n",
      "  State\n",
      "  Country\n",
      "  PostalCode\n",
      "  Phone\n",
      "  Fax\n",
      "  Email\n",
      "  SupportRepId\n",
      "\n",
      "Table: employees\n",
      "  EmployeeId\n",
      "  LastName\n",
      "  FirstName\n",
      "  Title\n",
      "  ReportsTo\n",
      "  BirthDate\n",
      "  HireDate\n",
      "  Address\n",
      "  City\n",
      "  State\n",
      "  Country\n",
      "  PostalCode\n",
      "  Phone\n",
      "  Fax\n",
      "  Email\n",
      "\n",
      "Table: genres\n",
      "  GenreId\n",
      "  Name\n",
      "\n",
      "Table: invoices\n",
      "  InvoiceId\n",
      "  CustomerId\n",
      "  InvoiceDate\n",
      "  BillingAddress\n",
      "  BillingCity\n",
      "  BillingState\n",
      "  BillingCountry\n",
      "  BillingPostalCode\n",
      "  Total\n",
      "\n",
      "Table: invoice_items\n",
      "  InvoiceLineId\n",
      "  InvoiceId\n",
      "  TrackId\n",
      "  UnitPrice\n",
      "  Quantity\n",
      "\n",
      "Table: media_types\n",
      "  MediaTypeId\n",
      "  Name\n",
      "\n",
      "Table: playlists\n",
      "  PlaylistId\n",
      "  Name\n",
      "\n",
      "Table: playlist_track\n",
      "  PlaylistId\n",
      "  TrackId\n",
      "\n",
      "Table: tracks\n",
      "  TrackId\n",
      "  Name\n",
      "  AlbumId\n",
      "  MediaTypeId\n",
      "  GenreId\n",
      "  Composer\n",
      "  Milliseconds\n",
      "  Bytes\n",
      "  UnitPrice\n",
      "\n",
      "Table: sqlite_stat1\n",
      "  tbl\n",
      "  idx\n",
      "  stat\n"
     ]
    }
   ],
   "source": [
    "import sqlite3\n",
    "\n",
    "# Replace 'your_database.db' with the actual name of your SQLite database file\n",
    "database_file = 'chinook.db'\n",
    "\n",
    "# Connect to the SQLite database\n",
    "connection = sqlite3.connect(database_file)\n",
    "cursor = connection.cursor()\n",
    "\n",
    "# Get the list of tables in the database\n",
    "cursor.execute(\"SELECT name FROM sqlite_master WHERE type='table';\")\n",
    "tables = cursor.fetchall()\n",
    "\n",
    "# Iterate through each table and print its columns\n",
    "for table in tables:\n",
    "    table_name = table[0]\n",
    "    print(f\"\\nTable: {table_name}\")\n",
    "\n",
    "    # Get the columns for the current table\n",
    "    cursor.execute(f\"PRAGMA table_info({table_name});\")\n",
    "    columns = cursor.fetchall()\n",
    "\n",
    "    # Print the columns\n",
    "    for column in columns:\n",
    "        column_name = column[1]\n",
    "        print(f\"  {column_name}\")\n",
    "\n",
    "# Close the connection\n",
    "connection.close()\n"
   ]
  },
  {
   "cell_type": "code",
   "execution_count": 2,
   "id": "4eb225fd-1293-4e90-a3a9-fbf1ac2d1d5e",
   "metadata": {},
   "outputs": [],
   "source": [
    "#! wget https://www.sqlitetutorial.net/wp-content/uploads/2018/03/chinook.zip"
   ]
  },
  {
   "cell_type": "code",
   "execution_count": 3,
   "id": "be378273-2324-4404-b68f-17f5c3fcfe27",
   "metadata": {},
   "outputs": [],
   "source": [
    "#! unzip chinook.zip"
   ]
  },
  {
   "cell_type": "code",
   "execution_count": 4,
   "id": "c29b0b4a-72c0-4270-8051-4d2845c0ad30",
   "metadata": {},
   "outputs": [
    {
     "name": "stdout",
     "output_type": "stream",
     "text": [
      "     AlbumId                                              Title  ArtistId\n",
      "0          1              For Those About To Rock We Salute You         1\n",
      "1          2                                  Balls to the Wall         2\n",
      "2          3                                  Restless and Wild         2\n",
      "3          4                                  Let There Be Rock         1\n",
      "4          5                                           Big Ones         3\n",
      "..       ...                                                ...       ...\n",
      "342      343                             Respighi:Pines of Rome       226\n",
      "343      344  Schubert: The Late String Quartets & String Qu...       272\n",
      "344      345                                Monteverdi: L'Orfeo       273\n",
      "345      346                              Mozart: Chamber Music       274\n",
      "346      347  Koyaanisqatsi (Soundtrack from the Motion Pict...       275\n",
      "\n",
      "[347 rows x 3 columns]\n"
     ]
    }
   ],
   "source": [
    "import sqlite3\n",
    "import pandas as pd\n",
    "\n",
    "# Replace 'your_database.db' with the actual name of your SQLite database file\n",
    "#database_file = 'your_database.db'\n",
    "\n",
    "# Connect to the SQLite database\n",
    "connection = sqlite3.connect(database_file)\n",
    "\n",
    "# Specify the table name (replace 'albums' with your actual table name)\n",
    "table_name = 'albums'\n",
    "\n",
    "# Query to select all rows from the specified table\n",
    "query = f\"SELECT * FROM {table_name};\"\n",
    "\n",
    "# Use Pandas to read the SQL query result into a DataFrame\n",
    "df = pd.read_sql_query(query, connection)\n",
    "\n",
    "# Close the connection\n",
    "connection.close()\n",
    "\n",
    "# Print the DataFrame\n",
    "print(df)\n"
   ]
  },
  {
   "cell_type": "code",
   "execution_count": 5,
   "id": "f73b79da-e37a-4f06-8d4e-0e6c18ea3964",
   "metadata": {},
   "outputs": [
    {
     "data": {
      "text/html": [
       "<div>\n",
       "<style scoped>\n",
       "    .dataframe tbody tr th:only-of-type {\n",
       "        vertical-align: middle;\n",
       "    }\n",
       "\n",
       "    .dataframe tbody tr th {\n",
       "        vertical-align: top;\n",
       "    }\n",
       "\n",
       "    .dataframe thead th {\n",
       "        text-align: right;\n",
       "    }\n",
       "</style>\n",
       "<table border=\"1\" class=\"dataframe\">\n",
       "  <thead>\n",
       "    <tr style=\"text-align: right;\">\n",
       "      <th></th>\n",
       "      <th>AlbumId</th>\n",
       "      <th>Title</th>\n",
       "      <th>ArtistId</th>\n",
       "    </tr>\n",
       "  </thead>\n",
       "  <tbody>\n",
       "    <tr>\n",
       "      <th>0</th>\n",
       "      <td>1</td>\n",
       "      <td>For Those About To Rock We Salute You</td>\n",
       "      <td>1</td>\n",
       "    </tr>\n",
       "    <tr>\n",
       "      <th>1</th>\n",
       "      <td>2</td>\n",
       "      <td>Balls to the Wall</td>\n",
       "      <td>2</td>\n",
       "    </tr>\n",
       "    <tr>\n",
       "      <th>2</th>\n",
       "      <td>3</td>\n",
       "      <td>Restless and Wild</td>\n",
       "      <td>2</td>\n",
       "    </tr>\n",
       "    <tr>\n",
       "      <th>3</th>\n",
       "      <td>4</td>\n",
       "      <td>Let There Be Rock</td>\n",
       "      <td>1</td>\n",
       "    </tr>\n",
       "    <tr>\n",
       "      <th>4</th>\n",
       "      <td>5</td>\n",
       "      <td>Big Ones</td>\n",
       "      <td>3</td>\n",
       "    </tr>\n",
       "  </tbody>\n",
       "</table>\n",
       "</div>"
      ],
      "text/plain": [
       "   AlbumId                                  Title  ArtistId\n",
       "0        1  For Those About To Rock We Salute You         1\n",
       "1        2                      Balls to the Wall         2\n",
       "2        3                      Restless and Wild         2\n",
       "3        4                      Let There Be Rock         1\n",
       "4        5                               Big Ones         3"
      ]
     },
     "execution_count": 5,
     "metadata": {},
     "output_type": "execute_result"
    }
   ],
   "source": [
    "df.head()"
   ]
  },
  {
   "cell_type": "code",
   "execution_count": 6,
   "id": "59da464c-7662-458f-ad54-27fb03daa057",
   "metadata": {},
   "outputs": [
    {
     "name": "stdout",
     "output_type": "stream",
     "text": [
      "     ArtistId                                               Name\n",
      "0           1                                              AC/DC\n",
      "1           2                                             Accept\n",
      "2           3                                          Aerosmith\n",
      "3           4                                  Alanis Morissette\n",
      "4           5                                    Alice In Chains\n",
      "..        ...                                                ...\n",
      "270       271   Mela Tenenbaum, Pro Musica Prague & Richard Kapp\n",
      "271       272                             Emerson String Quartet\n",
      "272       273  C. Monteverdi, Nigel Rogers - Chiaroscuro; Lon...\n",
      "273       274                                      Nash Ensemble\n",
      "274       275                              Philip Glass Ensemble\n",
      "\n",
      "[275 rows x 2 columns]\n"
     ]
    }
   ],
   "source": [
    "# Connect to the SQLite database\n",
    "connection = sqlite3.connect(database_file)\n",
    "\n",
    "# Specify the table name (replace 'albums' with your actual table name)\n",
    "table_name = 'artists'\n",
    "\n",
    "# Query to select all rows from the specified table\n",
    "query = f\"SELECT * FROM {table_name};\"\n",
    "\n",
    "# Use Pandas to read the SQL query result into a DataFrame\n",
    "df = pd.read_sql_query(query, connection)\n",
    "\n",
    "# Close the connection\n",
    "connection.close()\n",
    "\n",
    "# Print the DataFrame\n",
    "print(df)"
   ]
  },
  {
   "cell_type": "code",
   "execution_count": 15,
   "id": "306d82a2-cbd7-429a-b00b-a03376ea8081",
   "metadata": {},
   "outputs": [],
   "source": [
    "artist_of_interest = 9"
   ]
  },
  {
   "cell_type": "code",
   "execution_count": 16,
   "id": "78ecdea8-43e2-4d2f-9af4-be0893d24245",
   "metadata": {},
   "outputs": [
    {
     "name": "stdout",
     "output_type": "stream",
     "text": [
      "   AlbumId                Title  ArtistId\n",
      "0       12  BackBeat Soundtrack         9\n"
     ]
    }
   ],
   "source": [
    "# Connect to the SQLite database\n",
    "connection = sqlite3.connect(database_file)\n",
    "\n",
    "# Specify the table name (replace 'albums' with your actual table name)\n",
    "table_name = 'albums'\n",
    "\n",
    "# Query to select all rows from the specified table\n",
    "query = f\"SELECT * FROM {table_name} where ArtistID = {artist_of_interest};\"\n",
    "\n",
    "# Use Pandas to read the SQL query result into a DataFrame\n",
    "df = pd.read_sql_query(query, connection)\n",
    "\n",
    "# Close the connection\n",
    "connection.close()\n",
    "\n",
    "# Print the DataFrame\n",
    "print(df)"
   ]
  },
  {
   "cell_type": "code",
   "execution_count": 17,
   "id": "cbf1b1cd-f7e5-46ca-a961-1e2391f956f7",
   "metadata": {},
   "outputs": [
    {
     "name": "stdout",
     "output_type": "stream",
     "text": [
      "   ArtistId      Name\n",
      "0         9  BackBeat\n"
     ]
    }
   ],
   "source": [
    "# Connect to the SQLite database\n",
    "connection = sqlite3.connect(database_file)\n",
    "\n",
    "# Specify the table name (replace 'albums' with your actual table name)\n",
    "table_name = 'artists'\n",
    "\n",
    "# Query to select all rows from the specified table\n",
    "query = f\"SELECT * FROM {table_name} where ArtistId = {artist_of_interest};\"\n",
    "\n",
    "# Use Pandas to read the SQL query result into a DataFrame\n",
    "df = pd.read_sql_query(query, connection)\n",
    "\n",
    "# Close the connection\n",
    "connection.close()\n",
    "\n",
    "# Print the DataFrame\n",
    "print(df)"
   ]
  },
  {
   "cell_type": "code",
   "execution_count": null,
   "id": "4b862b25-71ed-4cc7-bcde-85ab686f6c17",
   "metadata": {},
   "outputs": [],
   "source": []
  },
  {
   "cell_type": "code",
   "execution_count": null,
   "id": "d3bf7294-8768-422a-82aa-461bac33a7eb",
   "metadata": {},
   "outputs": [],
   "source": []
  },
  {
   "cell_type": "code",
   "execution_count": null,
   "id": "94f26f69-d442-4967-9035-8e98ed47765d",
   "metadata": {},
   "outputs": [],
   "source": []
  }
 ],
 "metadata": {
  "kernelspec": {
   "display_name": "Python 3 (ipykernel)",
   "language": "python",
   "name": "python3"
  },
  "language_info": {
   "codemirror_mode": {
    "name": "ipython",
    "version": 3
   },
   "file_extension": ".py",
   "mimetype": "text/x-python",
   "name": "python",
   "nbconvert_exporter": "python",
   "pygments_lexer": "ipython3",
   "version": "3.11.6"
  }
 },
 "nbformat": 4,
 "nbformat_minor": 5
}
