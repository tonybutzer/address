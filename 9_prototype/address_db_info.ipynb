{
 "cells": [
  {
   "cell_type": "code",
   "execution_count": 1,
   "id": "db89ed7e-fc2f-40ad-8f99-0c9be0c8a0cd",
   "metadata": {},
   "outputs": [
    {
     "name": "stdout",
     "output_type": "stream",
     "text": [
      "\n",
      "Table: addresses\n",
      "  id\n",
      "  zipcode\n",
      "  number\n",
      "  street\n",
      "  street2\n",
      "  city\n",
      "  state\n",
      "  latitude\n",
      "  longitude\n",
      "\n",
      "Table: sqlite_sequence\n",
      "  name\n",
      "  seq\n"
     ]
    }
   ],
   "source": [
    "import sqlite3\n",
    "\n",
    "# Replace 'your_database.db' with the actual name of your SQLite database file\n",
    "database_file = '/efs/data/addressdb_geo.sqlite'\n",
    "\n",
    "# Connect to the SQLite database\n",
    "connection = sqlite3.connect(database_file)\n",
    "cursor = connection.cursor()\n",
    "\n",
    "# Get the list of tables in the database\n",
    "cursor.execute(\"SELECT name FROM sqlite_master WHERE type='table';\")\n",
    "tables = cursor.fetchall()\n",
    "\n",
    "# Iterate through each table and print its columns\n",
    "for table in tables:\n",
    "    table_name = table[0]\n",
    "    print(f\"\\nTable: {table_name}\")\n",
    "\n",
    "    # Get the columns for the current table\n",
    "    cursor.execute(f\"PRAGMA table_info({table_name});\")\n",
    "    columns = cursor.fetchall()\n",
    "\n",
    "    # Print the columns\n",
    "    for column in columns:\n",
    "        column_name = column[1]\n",
    "        print(f\"  {column_name}\")\n",
    "\n",
    "# Close the connection\n",
    "connection.close()\n"
   ]
  },
  {
   "cell_type": "code",
   "execution_count": 2,
   "id": "4eb225fd-1293-4e90-a3a9-fbf1ac2d1d5e",
   "metadata": {},
   "outputs": [],
   "source": [
    "#! wget https://www.sqlitetutorial.net/wp-content/uploads/2018/03/chinook.zip"
   ]
  },
  {
   "cell_type": "code",
   "execution_count": 3,
   "id": "be378273-2324-4404-b68f-17f5c3fcfe27",
   "metadata": {},
   "outputs": [],
   "source": [
    "#! unzip chinook.zip"
   ]
  },
  {
   "cell_type": "code",
   "execution_count": 4,
   "id": "c29b0b4a-72c0-4270-8051-4d2845c0ad30",
   "metadata": {},
   "outputs": [
    {
     "name": "stdout",
     "output_type": "stream",
     "text": [
      "              id zipcode number         street street2         city state  \\\n",
      "0      190993046   57103      1  S SECLUDED PL          SIOUX FALLS    SD   \n",
      "1      191123695   57103      1   S ELKJER CIR          SIOUX FALLS    SD   \n",
      "2      191028200   57103     10   S ELKJER CIR          SIOUX FALLS    SD   \n",
      "3      190992552   57103    100  S WAYLAND AVE          SIOUX FALLS    SD   \n",
      "4      191018152   57103    100    N OMAHA AVE          SIOUX FALLS    SD   \n",
      "...          ...     ...    ...            ...     ...          ...   ...   \n",
      "12291  190993636   57103    960   S BLAINE AVE          SIOUX FALLS    SD   \n",
      "12292  191224287   57103    960       E 1ST ST          SIOUX FALLS    SD   \n",
      "12293  190982024   57103    961   S BLAINE AVE          SIOUX FALLS    SD   \n",
      "12294  191224285   57103    962   S BLAINE AVE          SIOUX FALLS    SD   \n",
      "12295  191128860   57103    966   S BLAINE AVE          SIOUX FALLS    SD   \n",
      "\n",
      "        latitude  longitude  \n",
      "0      43.512297 -96.700814  \n",
      "1      43.521749 -96.695312  \n",
      "2      43.520576 -96.691476  \n",
      "3      43.547452 -96.707293  \n",
      "4      43.547358 -96.697416  \n",
      "...          ...        ...  \n",
      "12291  43.537735 -96.692409  \n",
      "12292  43.557565 -96.714208  \n",
      "12293  43.537721 -96.692932  \n",
      "12294  43.538386 -96.692583  \n",
      "12295  43.537686 -96.692156  \n",
      "\n",
      "[12296 rows x 9 columns]\n"
     ]
    }
   ],
   "source": [
    "import sqlite3\n",
    "import pandas as pd\n",
    "\n",
    "# Replace 'your_database.db' with the actual name of your SQLite database file\n",
    "#database_file = 'your_database.db'\n",
    "\n",
    "# Connect to the SQLite database\n",
    "connection = sqlite3.connect(database_file)\n",
    "\n",
    "# Specify the table name (replace 'albums' with your actual table name)\n",
    "table_name = 'addresses'\n",
    "\n",
    "# Query to select all rows from the specified table\n",
    "query = f\"SELECT * FROM {table_name} where zipcode = '57103';\"\n",
    "\n",
    "# Use Pandas to read the SQL query result into a DataFrame\n",
    "df = pd.read_sql_query(query, connection)\n",
    "\n",
    "# Close the connection\n",
    "connection.close()\n",
    "\n",
    "# Print the DataFrame\n",
    "print(df)\n"
   ]
  },
  {
   "cell_type": "code",
   "execution_count": 5,
   "id": "f73b79da-e37a-4f06-8d4e-0e6c18ea3964",
   "metadata": {},
   "outputs": [
    {
     "data": {
      "text/html": [
       "<div>\n",
       "<style scoped>\n",
       "    .dataframe tbody tr th:only-of-type {\n",
       "        vertical-align: middle;\n",
       "    }\n",
       "\n",
       "    .dataframe tbody tr th {\n",
       "        vertical-align: top;\n",
       "    }\n",
       "\n",
       "    .dataframe thead th {\n",
       "        text-align: right;\n",
       "    }\n",
       "</style>\n",
       "<table border=\"1\" class=\"dataframe\">\n",
       "  <thead>\n",
       "    <tr style=\"text-align: right;\">\n",
       "      <th></th>\n",
       "      <th>id</th>\n",
       "      <th>zipcode</th>\n",
       "      <th>number</th>\n",
       "      <th>street</th>\n",
       "      <th>street2</th>\n",
       "      <th>city</th>\n",
       "      <th>state</th>\n",
       "      <th>latitude</th>\n",
       "      <th>longitude</th>\n",
       "    </tr>\n",
       "  </thead>\n",
       "  <tbody>\n",
       "    <tr>\n",
       "      <th>0</th>\n",
       "      <td>190993046</td>\n",
       "      <td>57103</td>\n",
       "      <td>1</td>\n",
       "      <td>S SECLUDED PL</td>\n",
       "      <td></td>\n",
       "      <td>SIOUX FALLS</td>\n",
       "      <td>SD</td>\n",
       "      <td>43.512297</td>\n",
       "      <td>-96.700814</td>\n",
       "    </tr>\n",
       "    <tr>\n",
       "      <th>1</th>\n",
       "      <td>191123695</td>\n",
       "      <td>57103</td>\n",
       "      <td>1</td>\n",
       "      <td>S ELKJER CIR</td>\n",
       "      <td></td>\n",
       "      <td>SIOUX FALLS</td>\n",
       "      <td>SD</td>\n",
       "      <td>43.521749</td>\n",
       "      <td>-96.695312</td>\n",
       "    </tr>\n",
       "    <tr>\n",
       "      <th>2</th>\n",
       "      <td>191028200</td>\n",
       "      <td>57103</td>\n",
       "      <td>10</td>\n",
       "      <td>S ELKJER CIR</td>\n",
       "      <td></td>\n",
       "      <td>SIOUX FALLS</td>\n",
       "      <td>SD</td>\n",
       "      <td>43.520576</td>\n",
       "      <td>-96.691476</td>\n",
       "    </tr>\n",
       "    <tr>\n",
       "      <th>3</th>\n",
       "      <td>190992552</td>\n",
       "      <td>57103</td>\n",
       "      <td>100</td>\n",
       "      <td>S WAYLAND AVE</td>\n",
       "      <td></td>\n",
       "      <td>SIOUX FALLS</td>\n",
       "      <td>SD</td>\n",
       "      <td>43.547452</td>\n",
       "      <td>-96.707293</td>\n",
       "    </tr>\n",
       "    <tr>\n",
       "      <th>4</th>\n",
       "      <td>191018152</td>\n",
       "      <td>57103</td>\n",
       "      <td>100</td>\n",
       "      <td>N OMAHA AVE</td>\n",
       "      <td></td>\n",
       "      <td>SIOUX FALLS</td>\n",
       "      <td>SD</td>\n",
       "      <td>43.547358</td>\n",
       "      <td>-96.697416</td>\n",
       "    </tr>\n",
       "  </tbody>\n",
       "</table>\n",
       "</div>"
      ],
      "text/plain": [
       "          id zipcode number         street street2         city state  \\\n",
       "0  190993046   57103      1  S SECLUDED PL          SIOUX FALLS    SD   \n",
       "1  191123695   57103      1   S ELKJER CIR          SIOUX FALLS    SD   \n",
       "2  191028200   57103     10   S ELKJER CIR          SIOUX FALLS    SD   \n",
       "3  190992552   57103    100  S WAYLAND AVE          SIOUX FALLS    SD   \n",
       "4  191018152   57103    100    N OMAHA AVE          SIOUX FALLS    SD   \n",
       "\n",
       "    latitude  longitude  \n",
       "0  43.512297 -96.700814  \n",
       "1  43.521749 -96.695312  \n",
       "2  43.520576 -96.691476  \n",
       "3  43.547452 -96.707293  \n",
       "4  43.547358 -96.697416  "
      ]
     },
     "execution_count": 5,
     "metadata": {},
     "output_type": "execute_result"
    }
   ],
   "source": [
    "df.head()"
   ]
  },
  {
   "cell_type": "code",
   "execution_count": 6,
   "id": "51fde7f6-af7a-494f-949c-a9cf644047b8",
   "metadata": {},
   "outputs": [
    {
     "name": "stdout",
     "output_type": "stream",
     "text": [
      "             id zipcode number           street street2         city state  \\\n",
      "8194  191025713   57103   4100  S ASH GROVE AVE          SIOUX FALLS    SD   \n",
      "8221  191016831   57103   4101  S ASH GROVE AVE          SIOUX FALLS    SD   \n",
      "8536  191023601   57103   4200  S ASH GROVE AVE          SIOUX FALLS    SD   \n",
      "8568  190997496   57103   4201  S ASH GROVE AVE          SIOUX FALLS    SD   \n",
      "8606  191020215   57103   4204  S ASH GROVE AVE          SIOUX FALLS    SD   \n",
      "...         ...     ...    ...              ...     ...          ...   ...   \n",
      "9766  191029290   57103   4708  S ASH GROVE AVE          SIOUX FALLS    SD   \n",
      "9804  191019377   57103   4801  S ASH GROVE AVE          SIOUX FALLS    SD   \n",
      "9823  191116836   57103   4804  S ASH GROVE AVE          SIOUX FALLS    SD   \n",
      "9826  190990442   57103   4805  S ASH GROVE AVE          SIOUX FALLS    SD   \n",
      "9837  190991497   57103   4808  S ASH GROVE AVE          SIOUX FALLS    SD   \n",
      "\n",
      "       latitude  longitude  \n",
      "8194  43.507343 -96.706294  \n",
      "8221  43.507306 -96.706931  \n",
      "8536  43.507088 -96.706243  \n",
      "8568  43.506787 -96.706700  \n",
      "8606  43.506901 -96.706099  \n",
      "...         ...        ...  \n",
      "9766  43.501524 -96.703182  \n",
      "9804  43.500983 -96.703698  \n",
      "9823  43.500914 -96.703114  \n",
      "9826  43.500653 -96.703730  \n",
      "9837  43.500681 -96.703153  \n",
      "\n",
      "[66 rows x 9 columns]\n"
     ]
    }
   ],
   "source": [
    "\n",
    "\n",
    "# Replace 'ash' with the substring you are looking for\n",
    "substring = 'ash'\n",
    "\n",
    "# Use str.contains to filter rows based on the condition\n",
    "filtered_df = df[df['street'].str.contains(substring, case=False, na=False)]\n",
    "\n",
    "# Print the filtered DataFrame\n",
    "print(filtered_df)\n"
   ]
  },
  {
   "cell_type": "code",
   "execution_count": 7,
   "id": "5a7da79d-b36f-4016-9be6-1ef655031e2e",
   "metadata": {},
   "outputs": [
    {
     "data": {
      "text/plain": [
       "(66, 9)"
      ]
     },
     "execution_count": 7,
     "metadata": {},
     "output_type": "execute_result"
    }
   ],
   "source": [
    "filtered_df.shape"
   ]
  },
  {
   "cell_type": "code",
   "execution_count": 8,
   "id": "9a25368e-bac3-4b88-bf48-1a5abac5046a",
   "metadata": {},
   "outputs": [],
   "source": [
    "filtered_df.to_csv('ash.csv')"
   ]
  },
  {
   "cell_type": "code",
   "execution_count": 9,
   "id": "57d347df-97cd-47e0-aa86-0d5a5a6576f3",
   "metadata": {},
   "outputs": [
    {
     "name": "stdout",
     "output_type": "stream",
     "text": [
      "             id zipcode number             street street2         city state  \\\n",
      "9182  190994505   57103   4400  S MOUNTAIN ASH DR          SIOUX FALLS    SD   \n",
      "9211  191024475   57103   4401    S ASH GROVE AVE          SIOUX FALLS    SD   \n",
      "9212  191024804   57103   4401  S MOUNTAIN ASH DR          SIOUX FALLS    SD   \n",
      "9244  191018771   57103   4404  S MOUNTAIN ASH DR          SIOUX FALLS    SD   \n",
      "9251  191027124   57103   4404    S ASH GROVE AVE          SIOUX FALLS    SD   \n",
      "9280  191025028   57103   4405    S ASH GROVE AVE          SIOUX FALLS    SD   \n",
      "9286  191029111   57103   4405  S MOUNTAIN ASH DR          SIOUX FALLS    SD   \n",
      "9316  191021926   57103   4408    S ASH GROVE AVE          SIOUX FALLS    SD   \n",
      "9321  191031536   57103   4408  S MOUNTAIN ASH DR          SIOUX FALLS    SD   \n",
      "9329  190981074   57103   4409  S MOUNTAIN ASH DR          SIOUX FALLS    SD   \n",
      "9351  191023809   57103   4409    S ASH GROVE AVE          SIOUX FALLS    SD   \n",
      "9371  190992553   57103   4412    S ASH GROVE AVE          SIOUX FALLS    SD   \n",
      "9401  191047042   57103   4413    S ASH GROVE AVE          SIOUX FALLS    SD   \n",
      "9416  191016730   57103   4416    S ASH GROVE AVE          SIOUX FALLS    SD   \n",
      "9431  190989542   57103   4417    S ASH GROVE AVE          SIOUX FALLS    SD   \n",
      "9447  191027286   57103   4420    S ASH GROVE AVE          SIOUX FALLS    SD   \n",
      "9455  190990740   57103   4421    S ASH GROVE AVE          SIOUX FALLS    SD   \n",
      "9462  190998124   57103   4424    S ASH GROVE AVE          SIOUX FALLS    SD   \n",
      "\n",
      "       latitude  longitude  \n",
      "9182  43.505026 -96.704617  \n",
      "9211  43.504934 -96.703994  \n",
      "9212  43.504856 -96.705186  \n",
      "9244  43.504814 -96.704463  \n",
      "9251  43.504884 -96.703238  \n",
      "9280  43.504789 -96.703788  \n",
      "9286  43.504658 -96.705032  \n",
      "9316  43.504689 -96.703175  \n",
      "9321  43.504567 -96.704337  \n",
      "9329  43.504440 -96.704945  \n",
      "9351  43.504557 -96.703717  \n",
      "9371  43.504434 -96.703056  \n",
      "9401  43.504302 -96.703728  \n",
      "9416  43.504240 -96.703127  \n",
      "9431  43.504074 -96.703712  \n",
      "9447  43.504018 -96.703058  \n",
      "9455  43.503808 -96.703707  \n",
      "9462  43.503814 -96.703108  \n"
     ]
    }
   ],
   "source": [
    "# Assuming your DataFrame is named 'df'\n",
    "df = filtered_df\n",
    "# Replace '44' with the prefix you are looking for\n",
    "prefix = '44'\n",
    "\n",
    "# Use str.startswith to filter rows based on the condition\n",
    "filtered_df = df[df['number'].str.startswith(prefix, na=False)]\n",
    "\n",
    "# Print the filtered DataFrame\n",
    "print(filtered_df)"
   ]
  },
  {
   "cell_type": "code",
   "execution_count": 10,
   "id": "0d8463c5-1fd3-4e95-aafc-82a4a93b48f4",
   "metadata": {},
   "outputs": [
    {
     "data": {
      "text/plain": [
       "(18, 9)"
      ]
     },
     "execution_count": 10,
     "metadata": {},
     "output_type": "execute_result"
    }
   ],
   "source": [
    "filtered_df.shape"
   ]
  },
  {
   "cell_type": "code",
   "execution_count": 11,
   "id": "59da464c-7662-458f-ad54-27fb03daa057",
   "metadata": {},
   "outputs": [
    {
     "ename": "DatabaseError",
     "evalue": "Execution failed on sql 'SELECT * FROM artists;': no such table: artists",
     "output_type": "error",
     "traceback": [
      "\u001b[0;31m---------------------------------------------------------------------------\u001b[0m",
      "\u001b[0;31mOperationalError\u001b[0m                          Traceback (most recent call last)",
      "File \u001b[0;32m/efs/mambaforge/envs/water/lib/python3.11/site-packages/pandas/io/sql.py:2262\u001b[0m, in \u001b[0;36mSQLiteDatabase.execute\u001b[0;34m(self, sql, params)\u001b[0m\n\u001b[1;32m   2261\u001b[0m \u001b[38;5;28;01mtry\u001b[39;00m:\n\u001b[0;32m-> 2262\u001b[0m     \u001b[43mcur\u001b[49m\u001b[38;5;241;43m.\u001b[39;49m\u001b[43mexecute\u001b[49m\u001b[43m(\u001b[49m\u001b[43msql\u001b[49m\u001b[43m,\u001b[49m\u001b[43m \u001b[49m\u001b[38;5;241;43m*\u001b[39;49m\u001b[43margs\u001b[49m\u001b[43m)\u001b[49m\n\u001b[1;32m   2263\u001b[0m     \u001b[38;5;28;01mreturn\u001b[39;00m cur\n",
      "\u001b[0;31mOperationalError\u001b[0m: no such table: artists",
      "\nThe above exception was the direct cause of the following exception:\n",
      "\u001b[0;31mDatabaseError\u001b[0m                             Traceback (most recent call last)",
      "Cell \u001b[0;32mIn[11], line 11\u001b[0m\n\u001b[1;32m      8\u001b[0m query \u001b[38;5;241m=\u001b[39m \u001b[38;5;124mf\u001b[39m\u001b[38;5;124m\"\u001b[39m\u001b[38;5;124mSELECT * FROM \u001b[39m\u001b[38;5;132;01m{\u001b[39;00mtable_name\u001b[38;5;132;01m}\u001b[39;00m\u001b[38;5;124m;\u001b[39m\u001b[38;5;124m\"\u001b[39m\n\u001b[1;32m     10\u001b[0m \u001b[38;5;66;03m# Use Pandas to read the SQL query result into a DataFrame\u001b[39;00m\n\u001b[0;32m---> 11\u001b[0m df \u001b[38;5;241m=\u001b[39m \u001b[43mpd\u001b[49m\u001b[38;5;241;43m.\u001b[39;49m\u001b[43mread_sql_query\u001b[49m\u001b[43m(\u001b[49m\u001b[43mquery\u001b[49m\u001b[43m,\u001b[49m\u001b[43m \u001b[49m\u001b[43mconnection\u001b[49m\u001b[43m)\u001b[49m\n\u001b[1;32m     13\u001b[0m \u001b[38;5;66;03m# Close the connection\u001b[39;00m\n\u001b[1;32m     14\u001b[0m connection\u001b[38;5;241m.\u001b[39mclose()\n",
      "File \u001b[0;32m/efs/mambaforge/envs/water/lib/python3.11/site-packages/pandas/io/sql.py:486\u001b[0m, in \u001b[0;36mread_sql_query\u001b[0;34m(sql, con, index_col, coerce_float, params, parse_dates, chunksize, dtype, dtype_backend)\u001b[0m\n\u001b[1;32m    483\u001b[0m \u001b[38;5;28;01massert\u001b[39;00m dtype_backend \u001b[38;5;129;01mis\u001b[39;00m \u001b[38;5;129;01mnot\u001b[39;00m lib\u001b[38;5;241m.\u001b[39mno_default\n\u001b[1;32m    485\u001b[0m \u001b[38;5;28;01mwith\u001b[39;00m pandasSQL_builder(con) \u001b[38;5;28;01mas\u001b[39;00m pandas_sql:\n\u001b[0;32m--> 486\u001b[0m     \u001b[38;5;28;01mreturn\u001b[39;00m \u001b[43mpandas_sql\u001b[49m\u001b[38;5;241;43m.\u001b[39;49m\u001b[43mread_query\u001b[49m\u001b[43m(\u001b[49m\n\u001b[1;32m    487\u001b[0m \u001b[43m        \u001b[49m\u001b[43msql\u001b[49m\u001b[43m,\u001b[49m\n\u001b[1;32m    488\u001b[0m \u001b[43m        \u001b[49m\u001b[43mindex_col\u001b[49m\u001b[38;5;241;43m=\u001b[39;49m\u001b[43mindex_col\u001b[49m\u001b[43m,\u001b[49m\n\u001b[1;32m    489\u001b[0m \u001b[43m        \u001b[49m\u001b[43mparams\u001b[49m\u001b[38;5;241;43m=\u001b[39;49m\u001b[43mparams\u001b[49m\u001b[43m,\u001b[49m\n\u001b[1;32m    490\u001b[0m \u001b[43m        \u001b[49m\u001b[43mcoerce_float\u001b[49m\u001b[38;5;241;43m=\u001b[39;49m\u001b[43mcoerce_float\u001b[49m\u001b[43m,\u001b[49m\n\u001b[1;32m    491\u001b[0m \u001b[43m        \u001b[49m\u001b[43mparse_dates\u001b[49m\u001b[38;5;241;43m=\u001b[39;49m\u001b[43mparse_dates\u001b[49m\u001b[43m,\u001b[49m\n\u001b[1;32m    492\u001b[0m \u001b[43m        \u001b[49m\u001b[43mchunksize\u001b[49m\u001b[38;5;241;43m=\u001b[39;49m\u001b[43mchunksize\u001b[49m\u001b[43m,\u001b[49m\n\u001b[1;32m    493\u001b[0m \u001b[43m        \u001b[49m\u001b[43mdtype\u001b[49m\u001b[38;5;241;43m=\u001b[39;49m\u001b[43mdtype\u001b[49m\u001b[43m,\u001b[49m\n\u001b[1;32m    494\u001b[0m \u001b[43m        \u001b[49m\u001b[43mdtype_backend\u001b[49m\u001b[38;5;241;43m=\u001b[39;49m\u001b[43mdtype_backend\u001b[49m\u001b[43m,\u001b[49m\n\u001b[1;32m    495\u001b[0m \u001b[43m    \u001b[49m\u001b[43m)\u001b[49m\n",
      "File \u001b[0;32m/efs/mambaforge/envs/water/lib/python3.11/site-packages/pandas/io/sql.py:2326\u001b[0m, in \u001b[0;36mSQLiteDatabase.read_query\u001b[0;34m(self, sql, index_col, coerce_float, parse_dates, params, chunksize, dtype, dtype_backend)\u001b[0m\n\u001b[1;32m   2315\u001b[0m \u001b[38;5;28;01mdef\u001b[39;00m \u001b[38;5;21mread_query\u001b[39m(\n\u001b[1;32m   2316\u001b[0m     \u001b[38;5;28mself\u001b[39m,\n\u001b[1;32m   2317\u001b[0m     sql,\n\u001b[0;32m   (...)\u001b[0m\n\u001b[1;32m   2324\u001b[0m     dtype_backend: DtypeBackend \u001b[38;5;241m|\u001b[39m Literal[\u001b[38;5;124m\"\u001b[39m\u001b[38;5;124mnumpy\u001b[39m\u001b[38;5;124m\"\u001b[39m] \u001b[38;5;241m=\u001b[39m \u001b[38;5;124m\"\u001b[39m\u001b[38;5;124mnumpy\u001b[39m\u001b[38;5;124m\"\u001b[39m,\n\u001b[1;32m   2325\u001b[0m ) \u001b[38;5;241m-\u001b[39m\u001b[38;5;241m>\u001b[39m DataFrame \u001b[38;5;241m|\u001b[39m Iterator[DataFrame]:\n\u001b[0;32m-> 2326\u001b[0m     cursor \u001b[38;5;241m=\u001b[39m \u001b[38;5;28;43mself\u001b[39;49m\u001b[38;5;241;43m.\u001b[39;49m\u001b[43mexecute\u001b[49m\u001b[43m(\u001b[49m\u001b[43msql\u001b[49m\u001b[43m,\u001b[49m\u001b[43m \u001b[49m\u001b[43mparams\u001b[49m\u001b[43m)\u001b[49m\n\u001b[1;32m   2327\u001b[0m     columns \u001b[38;5;241m=\u001b[39m [col_desc[\u001b[38;5;241m0\u001b[39m] \u001b[38;5;28;01mfor\u001b[39;00m col_desc \u001b[38;5;129;01min\u001b[39;00m cursor\u001b[38;5;241m.\u001b[39mdescription]\n\u001b[1;32m   2329\u001b[0m     \u001b[38;5;28;01mif\u001b[39;00m chunksize \u001b[38;5;129;01mis\u001b[39;00m \u001b[38;5;129;01mnot\u001b[39;00m \u001b[38;5;28;01mNone\u001b[39;00m:\n",
      "File \u001b[0;32m/efs/mambaforge/envs/water/lib/python3.11/site-packages/pandas/io/sql.py:2274\u001b[0m, in \u001b[0;36mSQLiteDatabase.execute\u001b[0;34m(self, sql, params)\u001b[0m\n\u001b[1;32m   2271\u001b[0m     \u001b[38;5;28;01mraise\u001b[39;00m ex \u001b[38;5;28;01mfrom\u001b[39;00m \u001b[38;5;21;01minner_exc\u001b[39;00m\n\u001b[1;32m   2273\u001b[0m ex \u001b[38;5;241m=\u001b[39m DatabaseError(\u001b[38;5;124mf\u001b[39m\u001b[38;5;124m\"\u001b[39m\u001b[38;5;124mExecution failed on sql \u001b[39m\u001b[38;5;124m'\u001b[39m\u001b[38;5;132;01m{\u001b[39;00msql\u001b[38;5;132;01m}\u001b[39;00m\u001b[38;5;124m'\u001b[39m\u001b[38;5;124m: \u001b[39m\u001b[38;5;132;01m{\u001b[39;00mexc\u001b[38;5;132;01m}\u001b[39;00m\u001b[38;5;124m\"\u001b[39m)\n\u001b[0;32m-> 2274\u001b[0m \u001b[38;5;28;01mraise\u001b[39;00m ex \u001b[38;5;28;01mfrom\u001b[39;00m \u001b[38;5;21;01mexc\u001b[39;00m\n",
      "\u001b[0;31mDatabaseError\u001b[0m: Execution failed on sql 'SELECT * FROM artists;': no such table: artists"
     ]
    }
   ],
   "source": [
    "# Connect to the SQLite database\n",
    "connection = sqlite3.connect(database_file)\n",
    "\n",
    "# Specify the table name (replace 'albums' with your actual table name)\n",
    "table_name = 'artists'\n",
    "\n",
    "# Query to select all rows from the specified table\n",
    "query = f\"SELECT * FROM {table_name};\"\n",
    "\n",
    "# Use Pandas to read the SQL query result into a DataFrame\n",
    "df = pd.read_sql_query(query, connection)\n",
    "\n",
    "# Close the connection\n",
    "connection.close()\n",
    "\n",
    "# Print the DataFrame\n",
    "print(df)"
   ]
  },
  {
   "cell_type": "code",
   "execution_count": null,
   "id": "306d82a2-cbd7-429a-b00b-a03376ea8081",
   "metadata": {},
   "outputs": [],
   "source": [
    "artist_of_interest = 9"
   ]
  },
  {
   "cell_type": "code",
   "execution_count": null,
   "id": "78ecdea8-43e2-4d2f-9af4-be0893d24245",
   "metadata": {},
   "outputs": [],
   "source": [
    "# Connect to the SQLite database\n",
    "connection = sqlite3.connect(database_file)\n",
    "\n",
    "# Specify the table name (replace 'albums' with your actual table name)\n",
    "table_name = 'albums'\n",
    "\n",
    "# Query to select all rows from the specified table\n",
    "query = f\"SELECT * FROM {table_name} where ArtistID = {artist_of_interest};\"\n",
    "\n",
    "# Use Pandas to read the SQL query result into a DataFrame\n",
    "df = pd.read_sql_query(query, connection)\n",
    "\n",
    "# Close the connection\n",
    "connection.close()\n",
    "\n",
    "# Print the DataFrame\n",
    "print(df)"
   ]
  },
  {
   "cell_type": "code",
   "execution_count": null,
   "id": "cbf1b1cd-f7e5-46ca-a961-1e2391f956f7",
   "metadata": {},
   "outputs": [],
   "source": [
    "# Connect to the SQLite database\n",
    "connection = sqlite3.connect(database_file)\n",
    "\n",
    "# Specify the table name (replace 'albums' with your actual table name)\n",
    "table_name = 'artists'\n",
    "\n",
    "# Query to select all rows from the specified table\n",
    "query = f\"SELECT * FROM {table_name} where ArtistId = {artist_of_interest};\"\n",
    "\n",
    "# Use Pandas to read the SQL query result into a DataFrame\n",
    "df = pd.read_sql_query(query, connection)\n",
    "\n",
    "# Close the connection\n",
    "connection.close()\n",
    "\n",
    "# Print the DataFrame\n",
    "print(df)"
   ]
  },
  {
   "cell_type": "code",
   "execution_count": null,
   "id": "4b862b25-71ed-4cc7-bcde-85ab686f6c17",
   "metadata": {},
   "outputs": [],
   "source": []
  },
  {
   "cell_type": "code",
   "execution_count": null,
   "id": "d3bf7294-8768-422a-82aa-461bac33a7eb",
   "metadata": {},
   "outputs": [],
   "source": []
  },
  {
   "cell_type": "code",
   "execution_count": null,
   "id": "94f26f69-d442-4967-9035-8e98ed47765d",
   "metadata": {},
   "outputs": [],
   "source": []
  }
 ],
 "metadata": {
  "kernelspec": {
   "display_name": "Python 3 (ipykernel)",
   "language": "python",
   "name": "python3"
  },
  "language_info": {
   "codemirror_mode": {
    "name": "ipython",
    "version": 3
   },
   "file_extension": ".py",
   "mimetype": "text/x-python",
   "name": "python",
   "nbconvert_exporter": "python",
   "pygments_lexer": "ipython3",
   "version": "3.11.6"
  }
 },
 "nbformat": 4,
 "nbformat_minor": 5
}
